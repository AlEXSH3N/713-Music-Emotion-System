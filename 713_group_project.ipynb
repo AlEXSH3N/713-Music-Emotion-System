{
  "nbformat": 4,
  "nbformat_minor": 0,
  "metadata": {
    "colab": {
      "provenance": [],
      "authorship_tag": "ABX9TyMugQPZAnA/oujLTiGfFEk4",
      "include_colab_link": true
    },
    "kernelspec": {
      "name": "python3",
      "display_name": "Python 3"
    },
    "language_info": {
      "name": "python"
    }
  },
  "cells": [
    {
      "cell_type": "markdown",
      "metadata": {
        "id": "view-in-github",
        "colab_type": "text"
      },
      "source": [
        "<a href=\"https://colab.research.google.com/github/AlEXSH3N/713-Music-Emotion-System/blob/main/713_group_project.ipynb\" target=\"_parent\"><img src=\"https://colab.research.google.com/assets/colab-badge.svg\" alt=\"Open In Colab\"/></a>"
      ]
    },
    {
      "cell_type": "code",
      "execution_count": 2,
      "metadata": {
        "colab": {
          "base_uri": "https://localhost:8080/"
        },
        "id": "gHU46diLlJNj",
        "outputId": "cf567009-312b-4ed8-cb17-09aeb0856c22"
      },
      "outputs": [
        {
          "output_type": "stream",
          "name": "stdout",
          "text": [
            "--2024-05-06 06:31:07--  https://storage.googleapis.com/gresearch/goemotions/data/full_dataset/goemotions_1.csv\n",
            "Resolving storage.googleapis.com (storage.googleapis.com)... 173.194.203.207, 74.125.199.207, 74.125.20.207, ...\n",
            "Connecting to storage.googleapis.com (storage.googleapis.com)|173.194.203.207|:443... connected.\n",
            "HTTP request sent, awaiting response... 200 OK\n",
            "Length: 14174600 (14M) [application/octet-stream]\n",
            "Saving to: ‘/content/data/full_dataset/goemotions_1.csv’\n",
            "\n",
            "goemotions_1.csv    100%[===================>]  13.52M  --.-KB/s    in 0.1s    \n",
            "\n",
            "2024-05-06 06:31:07 (97.2 MB/s) - ‘/content/data/full_dataset/goemotions_1.csv’ saved [14174600/14174600]\n",
            "\n",
            "--2024-05-06 06:31:07--  https://storage.googleapis.com/gresearch/goemotions/data/full_dataset/goemotions_2.csv\n",
            "Resolving storage.googleapis.com (storage.googleapis.com)... 173.194.203.207, 74.125.199.207, 74.125.20.207, ...\n",
            "Connecting to storage.googleapis.com (storage.googleapis.com)|173.194.203.207|:443... connected.\n",
            "HTTP request sent, awaiting response... 200 OK\n",
            "Length: 14173154 (14M) [application/octet-stream]\n",
            "Saving to: ‘/content/data/full_dataset/goemotions_2.csv’\n",
            "\n",
            "goemotions_2.csv    100%[===================>]  13.52M  77.9MB/s    in 0.2s    \n",
            "\n",
            "2024-05-06 06:31:08 (77.9 MB/s) - ‘/content/data/full_dataset/goemotions_2.csv’ saved [14173154/14173154]\n",
            "\n",
            "--2024-05-06 06:31:08--  https://storage.googleapis.com/gresearch/goemotions/data/full_dataset/goemotions_3.csv\n",
            "Resolving storage.googleapis.com (storage.googleapis.com)... 173.194.203.207, 74.125.199.207, 74.125.20.207, ...\n",
            "Connecting to storage.googleapis.com (storage.googleapis.com)|173.194.203.207|:443... connected.\n",
            "HTTP request sent, awaiting response... 200 OK\n",
            "Length: 14395164 (14M) [application/octet-stream]\n",
            "Saving to: ‘/content/data/full_dataset/goemotions_3.csv’\n",
            "\n",
            "goemotions_3.csv    100%[===================>]  13.73M  70.7MB/s    in 0.2s    \n",
            "\n",
            "2024-05-06 06:31:08 (70.7 MB/s) - ‘/content/data/full_dataset/goemotions_3.csv’ saved [14395164/14395164]\n",
            "\n"
          ]
        }
      ],
      "source": [
        "!wget -P /content/data/full_dataset/ https://storage.googleapis.com/gresearch/goemotions/data/full_dataset/goemotions_1.csv\n",
        "!wget -P /content/data/full_dataset/ https://storage.googleapis.com/gresearch/goemotions/data/full_dataset/goemotions_2.csv\n",
        "!wget -P /content/data/full_dataset/ https://storage.googleapis.com/gresearch/goemotions/data/full_dataset/goemotions_3.csv"
      ]
    },
    {
      "cell_type": "code",
      "source": [],
      "metadata": {
        "id": "teankSJwmZ0x"
      },
      "execution_count": null,
      "outputs": []
    }
  ]
}