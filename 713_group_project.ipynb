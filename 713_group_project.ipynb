{
  "cells": [
    {
      "cell_type": "markdown",
      "metadata": {
        "id": "view-in-github",
        "colab_type": "text"
      },
      "source": [
        "<a href=\"https://colab.research.google.com/github/AlEXSH3N/713-Music-Emotion-System/blob/main/713_group_project.ipynb\" target=\"_parent\"><img src=\"https://colab.research.google.com/assets/colab-badge.svg\" alt=\"Open In Colab\"/></a>"
      ]
    },
    {
      "cell_type": "code",
      "execution_count": 4,
      "metadata": {
        "colab": {
          "base_uri": "https://localhost:8080/"
        },
        "id": "JRa7n4h2mdwK",
        "outputId": "15a583ca-fedb-4237-b1e7-a3e84f2a6be6"
      },
      "outputs": [
        {
          "output_type": "stream",
          "name": "stdout",
          "text": [
            "Mounted at /content/drive\n"
          ]
        }
      ],
      "source": [
        "from google.colab import drive\n",
        "drive.mount('/content/drive')"
      ]
    },
    {
      "cell_type": "code",
      "execution_count": 2,
      "metadata": {
        "colab": {
          "base_uri": "https://localhost:8080/"
        },
        "id": "kpNrj85pDuG-",
        "outputId": "1f7a6118-7ecf-45bb-e5cc-bc2f049d1ae6"
      },
      "outputs": [
        {
          "output_type": "stream",
          "name": "stdout",
          "text": [
            "Collecting emoji\n",
            "  Downloading emoji-2.11.1-py2.py3-none-any.whl (433 kB)\n",
            "\u001b[2K     \u001b[90m━━━━━━━━━━━━━━━━━━━━━━━━━━━━━━━━━━━━━━━━\u001b[0m \u001b[32m433.8/433.8 kB\u001b[0m \u001b[31m3.2 MB/s\u001b[0m eta \u001b[36m0:00:00\u001b[0m\n",
            "\u001b[?25hInstalling collected packages: emoji\n",
            "Successfully installed emoji-2.11.1\n",
            "Requirement already satisfied: gensim in /usr/local/lib/python3.10/dist-packages (4.3.2)\n",
            "Requirement already satisfied: numpy>=1.18.5 in /usr/local/lib/python3.10/dist-packages (from gensim) (1.25.2)\n",
            "Requirement already satisfied: scipy>=1.7.0 in /usr/local/lib/python3.10/dist-packages (from gensim) (1.11.4)\n",
            "Requirement already satisfied: smart-open>=1.8.1 in /usr/local/lib/python3.10/dist-packages (from gensim) (6.4.0)\n",
            "Requirement already satisfied: nltk in /usr/local/lib/python3.10/dist-packages (3.8.1)\n",
            "Requirement already satisfied: click in /usr/local/lib/python3.10/dist-packages (from nltk) (8.1.7)\n",
            "Requirement already satisfied: joblib in /usr/local/lib/python3.10/dist-packages (from nltk) (1.4.2)\n",
            "Requirement already satisfied: regex>=2021.8.3 in /usr/local/lib/python3.10/dist-packages (from nltk) (2023.12.25)\n",
            "Requirement already satisfied: tqdm in /usr/local/lib/python3.10/dist-packages (from nltk) (4.66.4)\n",
            "\u001b[31mERROR: Could not find a version that satisfies the requirement transformer (from versions: none)\u001b[0m\u001b[31m\n",
            "\u001b[0m\u001b[31mERROR: No matching distribution found for transformer\u001b[0m\u001b[31m\n",
            "\u001b[0m"
          ]
        }
      ],
      "source": [
        "!pip install emoji\n",
        "!pip install gensim\n",
        "!pip install nltk\n",
        "!pip install transformer"
      ]
    },
    {
      "cell_type": "code",
      "execution_count": 3,
      "metadata": {
        "colab": {
          "base_uri": "https://localhost:8080/"
        },
        "id": "V82Wax82syWW",
        "outputId": "aceb08d1-dd25-4a55-a117-a35470954264"
      },
      "outputs": [
        {
          "output_type": "stream",
          "name": "stderr",
          "text": [
            "[nltk_data] Downloading package punkt to /root/nltk_data...\n",
            "[nltk_data]   Unzipping tokenizers/punkt.zip.\n"
          ]
        }
      ],
      "source": [
        "import numpy as np\n",
        "import matplotlib.pyplot as plt\n",
        "import tensorflow as tf\n",
        "import pandas as pd\n",
        "import gensim\n",
        "import warnings\n",
        "import string\n",
        "import emoji\n",
        "import re\n",
        "import nltk\n",
        "import torch\n",
        "nltk.download('punkt')\n",
        "\n",
        "from tensorflow.keras.preprocessing.text import Tokenizer\n",
        "from tensorflow.keras.preprocessing.sequence import pad_sequences\n",
        "from tensorflow.keras.layers import Input, Embedding, Dense, Dropout, LayerNormalization\n",
        "from tensorflow.keras.layers import Concatenate, MultiHeadAttention, Flatten\n",
        "from tensorflow.keras.models import Model\n",
        "\n",
        "from sklearn.preprocessing import MultiLabelBinarizer, StandardScaler\n",
        "from sklearn.model_selection import train_test_split\n",
        "from sklearn.metrics import classification_report, f1_score, accuracy_score\n",
        "from sklearn.neighbors import KNeighborsClassifier\n",
        "from sklearn.feature_extraction.text import CountVectorizer, TfidfVectorizer\n",
        "from sklearn.multiclass import OneVsRestClassifier\n",
        "from sklearn.linear_model import LogisticRegression\n",
        "\n",
        "from transformers import BertTokenizer, BertForSequenceClassification\n",
        "\n",
        "from torch.nn import BCEWithLogitsLoss\n",
        "\n",
        "# from cuml.neighbors import KNeighborsClassifier\n",
        "# from cuml.model_selection import train_test_split"
      ]
    },
    {
      "cell_type": "markdown",
      "metadata": {
        "id": "ZVnW1IdQsyWY"
      },
      "source": [
        "## Data Loading"
      ]
    },
    {
      "cell_type": "code",
      "execution_count": 5,
      "metadata": {
        "colab": {
          "base_uri": "https://localhost:8080/"
        },
        "id": "teankSJwmZ0x",
        "outputId": "ee050b59-8985-4287-8fec-2ac1272518e8"
      },
      "outputs": [
        {
          "output_type": "stream",
          "name": "stdout",
          "text": [
            "70000 70000 71225 211225\n"
          ]
        }
      ],
      "source": [
        "# /content/drive/Shareddrives/713 Group Project/Dataset/\n",
        "goemo1 = pd.read_csv(r'/content/drive/Shareddrives/713 Group Project/Dataset/goemotions_1.csv')\n",
        "goemo2 = pd.read_csv(r'/content/drive/Shareddrives/713 Group Project/Dataset/goemotions_2.csv')\n",
        "goemo3 = pd.read_csv(r'/content/drive/Shareddrives/713 Group Project/Dataset/goemotions_3.csv')\n",
        "goemo_all = pd.concat([goemo1, goemo2, goemo3], ignore_index=True)\n",
        "\n",
        "print(len(goemo1), len(goemo2), len(goemo3), len(goemo_all))"
      ]
    },
    {
      "cell_type": "code",
      "execution_count": null,
      "metadata": {
        "colab": {
          "base_uri": "https://localhost:8080/",
          "height": 585
        },
        "id": "zzGygaJHWKKi",
        "outputId": "6c3a699a-b896-424c-efac-19a415d2bfae"
      },
      "outputs": [
        {
          "data": {
            "application/vnd.google.colaboratory.intrinsic+json": {
              "type": "dataframe",
              "variable_name": "goemo_all"
            },
            "text/html": [
              "\n",
              "  <div id=\"df-015425ba-5d01-4b63-a77c-04ada60907d6\" class=\"colab-df-container\">\n",
              "    <div>\n",
              "<style scoped>\n",
              "    .dataframe tbody tr th:only-of-type {\n",
              "        vertical-align: middle;\n",
              "    }\n",
              "\n",
              "    .dataframe tbody tr th {\n",
              "        vertical-align: top;\n",
              "    }\n",
              "\n",
              "    .dataframe thead th {\n",
              "        text-align: right;\n",
              "    }\n",
              "</style>\n",
              "<table border=\"1\" class=\"dataframe\">\n",
              "  <thead>\n",
              "    <tr style=\"text-align: right;\">\n",
              "      <th></th>\n",
              "      <th>text</th>\n",
              "      <th>id</th>\n",
              "      <th>author</th>\n",
              "      <th>subreddit</th>\n",
              "      <th>link_id</th>\n",
              "      <th>parent_id</th>\n",
              "      <th>created_utc</th>\n",
              "      <th>rater_id</th>\n",
              "      <th>example_very_unclear</th>\n",
              "      <th>admiration</th>\n",
              "      <th>...</th>\n",
              "      <th>love</th>\n",
              "      <th>nervousness</th>\n",
              "      <th>optimism</th>\n",
              "      <th>pride</th>\n",
              "      <th>realization</th>\n",
              "      <th>relief</th>\n",
              "      <th>remorse</th>\n",
              "      <th>sadness</th>\n",
              "      <th>surprise</th>\n",
              "      <th>neutral</th>\n",
              "    </tr>\n",
              "  </thead>\n",
              "  <tbody>\n",
              "    <tr>\n",
              "      <th>0</th>\n",
              "      <td>That game hurt.</td>\n",
              "      <td>eew5j0j</td>\n",
              "      <td>Brdd9</td>\n",
              "      <td>nrl</td>\n",
              "      <td>t3_ajis4z</td>\n",
              "      <td>t1_eew18eq</td>\n",
              "      <td>1.548381e+09</td>\n",
              "      <td>1</td>\n",
              "      <td>False</td>\n",
              "      <td>0</td>\n",
              "      <td>...</td>\n",
              "      <td>0</td>\n",
              "      <td>0</td>\n",
              "      <td>0</td>\n",
              "      <td>0</td>\n",
              "      <td>0</td>\n",
              "      <td>0</td>\n",
              "      <td>0</td>\n",
              "      <td>1</td>\n",
              "      <td>0</td>\n",
              "      <td>0</td>\n",
              "    </tr>\n",
              "    <tr>\n",
              "      <th>1</th>\n",
              "      <td>&gt;sexuality shouldn’t be a grouping category I...</td>\n",
              "      <td>eemcysk</td>\n",
              "      <td>TheGreen888</td>\n",
              "      <td>unpopularopinion</td>\n",
              "      <td>t3_ai4q37</td>\n",
              "      <td>t3_ai4q37</td>\n",
              "      <td>1.548084e+09</td>\n",
              "      <td>37</td>\n",
              "      <td>True</td>\n",
              "      <td>0</td>\n",
              "      <td>...</td>\n",
              "      <td>0</td>\n",
              "      <td>0</td>\n",
              "      <td>0</td>\n",
              "      <td>0</td>\n",
              "      <td>0</td>\n",
              "      <td>0</td>\n",
              "      <td>0</td>\n",
              "      <td>0</td>\n",
              "      <td>0</td>\n",
              "      <td>0</td>\n",
              "    </tr>\n",
              "    <tr>\n",
              "      <th>2</th>\n",
              "      <td>You do right, if you don't care then fuck 'em!</td>\n",
              "      <td>ed2mah1</td>\n",
              "      <td>Labalool</td>\n",
              "      <td>confessions</td>\n",
              "      <td>t3_abru74</td>\n",
              "      <td>t1_ed2m7g7</td>\n",
              "      <td>1.546428e+09</td>\n",
              "      <td>37</td>\n",
              "      <td>False</td>\n",
              "      <td>0</td>\n",
              "      <td>...</td>\n",
              "      <td>0</td>\n",
              "      <td>0</td>\n",
              "      <td>0</td>\n",
              "      <td>0</td>\n",
              "      <td>0</td>\n",
              "      <td>0</td>\n",
              "      <td>0</td>\n",
              "      <td>0</td>\n",
              "      <td>0</td>\n",
              "      <td>1</td>\n",
              "    </tr>\n",
              "    <tr>\n",
              "      <th>3</th>\n",
              "      <td>Man I love reddit.</td>\n",
              "      <td>eeibobj</td>\n",
              "      <td>MrsRobertshaw</td>\n",
              "      <td>facepalm</td>\n",
              "      <td>t3_ahulml</td>\n",
              "      <td>t3_ahulml</td>\n",
              "      <td>1.547965e+09</td>\n",
              "      <td>18</td>\n",
              "      <td>False</td>\n",
              "      <td>0</td>\n",
              "      <td>...</td>\n",
              "      <td>1</td>\n",
              "      <td>0</td>\n",
              "      <td>0</td>\n",
              "      <td>0</td>\n",
              "      <td>0</td>\n",
              "      <td>0</td>\n",
              "      <td>0</td>\n",
              "      <td>0</td>\n",
              "      <td>0</td>\n",
              "      <td>0</td>\n",
              "    </tr>\n",
              "    <tr>\n",
              "      <th>4</th>\n",
              "      <td>[NAME] was nowhere near them, he was by the Fa...</td>\n",
              "      <td>eda6yn6</td>\n",
              "      <td>American_Fascist713</td>\n",
              "      <td>starwarsspeculation</td>\n",
              "      <td>t3_ackt2f</td>\n",
              "      <td>t1_eda65q2</td>\n",
              "      <td>1.546669e+09</td>\n",
              "      <td>2</td>\n",
              "      <td>False</td>\n",
              "      <td>0</td>\n",
              "      <td>...</td>\n",
              "      <td>0</td>\n",
              "      <td>0</td>\n",
              "      <td>0</td>\n",
              "      <td>0</td>\n",
              "      <td>0</td>\n",
              "      <td>0</td>\n",
              "      <td>0</td>\n",
              "      <td>0</td>\n",
              "      <td>0</td>\n",
              "      <td>1</td>\n",
              "    </tr>\n",
              "  </tbody>\n",
              "</table>\n",
              "<p>5 rows × 37 columns</p>\n",
              "</div>\n",
              "    <div class=\"colab-df-buttons\">\n",
              "\n",
              "  <div class=\"colab-df-container\">\n",
              "    <button class=\"colab-df-convert\" onclick=\"convertToInteractive('df-015425ba-5d01-4b63-a77c-04ada60907d6')\"\n",
              "            title=\"Convert this dataframe to an interactive table.\"\n",
              "            style=\"display:none;\">\n",
              "\n",
              "  <svg xmlns=\"http://www.w3.org/2000/svg\" height=\"24px\" viewBox=\"0 -960 960 960\">\n",
              "    <path d=\"M120-120v-720h720v720H120Zm60-500h600v-160H180v160Zm220 220h160v-160H400v160Zm0 220h160v-160H400v160ZM180-400h160v-160H180v160Zm440 0h160v-160H620v160ZM180-180h160v-160H180v160Zm440 0h160v-160H620v160Z\"/>\n",
              "  </svg>\n",
              "    </button>\n",
              "\n",
              "  <style>\n",
              "    .colab-df-container {\n",
              "      display:flex;\n",
              "      gap: 12px;\n",
              "    }\n",
              "\n",
              "    .colab-df-convert {\n",
              "      background-color: #E8F0FE;\n",
              "      border: none;\n",
              "      border-radius: 50%;\n",
              "      cursor: pointer;\n",
              "      display: none;\n",
              "      fill: #1967D2;\n",
              "      height: 32px;\n",
              "      padding: 0 0 0 0;\n",
              "      width: 32px;\n",
              "    }\n",
              "\n",
              "    .colab-df-convert:hover {\n",
              "      background-color: #E2EBFA;\n",
              "      box-shadow: 0px 1px 2px rgba(60, 64, 67, 0.3), 0px 1px 3px 1px rgba(60, 64, 67, 0.15);\n",
              "      fill: #174EA6;\n",
              "    }\n",
              "\n",
              "    .colab-df-buttons div {\n",
              "      margin-bottom: 4px;\n",
              "    }\n",
              "\n",
              "    [theme=dark] .colab-df-convert {\n",
              "      background-color: #3B4455;\n",
              "      fill: #D2E3FC;\n",
              "    }\n",
              "\n",
              "    [theme=dark] .colab-df-convert:hover {\n",
              "      background-color: #434B5C;\n",
              "      box-shadow: 0px 1px 3px 1px rgba(0, 0, 0, 0.15);\n",
              "      filter: drop-shadow(0px 1px 2px rgba(0, 0, 0, 0.3));\n",
              "      fill: #FFFFFF;\n",
              "    }\n",
              "  </style>\n",
              "\n",
              "    <script>\n",
              "      const buttonEl =\n",
              "        document.querySelector('#df-015425ba-5d01-4b63-a77c-04ada60907d6 button.colab-df-convert');\n",
              "      buttonEl.style.display =\n",
              "        google.colab.kernel.accessAllowed ? 'block' : 'none';\n",
              "\n",
              "      async function convertToInteractive(key) {\n",
              "        const element = document.querySelector('#df-015425ba-5d01-4b63-a77c-04ada60907d6');\n",
              "        const dataTable =\n",
              "          await google.colab.kernel.invokeFunction('convertToInteractive',\n",
              "                                                    [key], {});\n",
              "        if (!dataTable) return;\n",
              "\n",
              "        const docLinkHtml = 'Like what you see? Visit the ' +\n",
              "          '<a target=\"_blank\" href=https://colab.research.google.com/notebooks/data_table.ipynb>data table notebook</a>'\n",
              "          + ' to learn more about interactive tables.';\n",
              "        element.innerHTML = '';\n",
              "        dataTable['output_type'] = 'display_data';\n",
              "        await google.colab.output.renderOutput(dataTable, element);\n",
              "        const docLink = document.createElement('div');\n",
              "        docLink.innerHTML = docLinkHtml;\n",
              "        element.appendChild(docLink);\n",
              "      }\n",
              "    </script>\n",
              "  </div>\n",
              "\n",
              "\n",
              "<div id=\"df-4e68195a-9894-4863-ac01-8ecf004c7cb9\">\n",
              "  <button class=\"colab-df-quickchart\" onclick=\"quickchart('df-4e68195a-9894-4863-ac01-8ecf004c7cb9')\"\n",
              "            title=\"Suggest charts\"\n",
              "            style=\"display:none;\">\n",
              "\n",
              "<svg xmlns=\"http://www.w3.org/2000/svg\" height=\"24px\"viewBox=\"0 0 24 24\"\n",
              "     width=\"24px\">\n",
              "    <g>\n",
              "        <path d=\"M19 3H5c-1.1 0-2 .9-2 2v14c0 1.1.9 2 2 2h14c1.1 0 2-.9 2-2V5c0-1.1-.9-2-2-2zM9 17H7v-7h2v7zm4 0h-2V7h2v10zm4 0h-2v-4h2v4z\"/>\n",
              "    </g>\n",
              "</svg>\n",
              "  </button>\n",
              "\n",
              "<style>\n",
              "  .colab-df-quickchart {\n",
              "      --bg-color: #E8F0FE;\n",
              "      --fill-color: #1967D2;\n",
              "      --hover-bg-color: #E2EBFA;\n",
              "      --hover-fill-color: #174EA6;\n",
              "      --disabled-fill-color: #AAA;\n",
              "      --disabled-bg-color: #DDD;\n",
              "  }\n",
              "\n",
              "  [theme=dark] .colab-df-quickchart {\n",
              "      --bg-color: #3B4455;\n",
              "      --fill-color: #D2E3FC;\n",
              "      --hover-bg-color: #434B5C;\n",
              "      --hover-fill-color: #FFFFFF;\n",
              "      --disabled-bg-color: #3B4455;\n",
              "      --disabled-fill-color: #666;\n",
              "  }\n",
              "\n",
              "  .colab-df-quickchart {\n",
              "    background-color: var(--bg-color);\n",
              "    border: none;\n",
              "    border-radius: 50%;\n",
              "    cursor: pointer;\n",
              "    display: none;\n",
              "    fill: var(--fill-color);\n",
              "    height: 32px;\n",
              "    padding: 0;\n",
              "    width: 32px;\n",
              "  }\n",
              "\n",
              "  .colab-df-quickchart:hover {\n",
              "    background-color: var(--hover-bg-color);\n",
              "    box-shadow: 0 1px 2px rgba(60, 64, 67, 0.3), 0 1px 3px 1px rgba(60, 64, 67, 0.15);\n",
              "    fill: var(--button-hover-fill-color);\n",
              "  }\n",
              "\n",
              "  .colab-df-quickchart-complete:disabled,\n",
              "  .colab-df-quickchart-complete:disabled:hover {\n",
              "    background-color: var(--disabled-bg-color);\n",
              "    fill: var(--disabled-fill-color);\n",
              "    box-shadow: none;\n",
              "  }\n",
              "\n",
              "  .colab-df-spinner {\n",
              "    border: 2px solid var(--fill-color);\n",
              "    border-color: transparent;\n",
              "    border-bottom-color: var(--fill-color);\n",
              "    animation:\n",
              "      spin 1s steps(1) infinite;\n",
              "  }\n",
              "\n",
              "  @keyframes spin {\n",
              "    0% {\n",
              "      border-color: transparent;\n",
              "      border-bottom-color: var(--fill-color);\n",
              "      border-left-color: var(--fill-color);\n",
              "    }\n",
              "    20% {\n",
              "      border-color: transparent;\n",
              "      border-left-color: var(--fill-color);\n",
              "      border-top-color: var(--fill-color);\n",
              "    }\n",
              "    30% {\n",
              "      border-color: transparent;\n",
              "      border-left-color: var(--fill-color);\n",
              "      border-top-color: var(--fill-color);\n",
              "      border-right-color: var(--fill-color);\n",
              "    }\n",
              "    40% {\n",
              "      border-color: transparent;\n",
              "      border-right-color: var(--fill-color);\n",
              "      border-top-color: var(--fill-color);\n",
              "    }\n",
              "    60% {\n",
              "      border-color: transparent;\n",
              "      border-right-color: var(--fill-color);\n",
              "    }\n",
              "    80% {\n",
              "      border-color: transparent;\n",
              "      border-right-color: var(--fill-color);\n",
              "      border-bottom-color: var(--fill-color);\n",
              "    }\n",
              "    90% {\n",
              "      border-color: transparent;\n",
              "      border-bottom-color: var(--fill-color);\n",
              "    }\n",
              "  }\n",
              "</style>\n",
              "\n",
              "  <script>\n",
              "    async function quickchart(key) {\n",
              "      const quickchartButtonEl =\n",
              "        document.querySelector('#' + key + ' button');\n",
              "      quickchartButtonEl.disabled = true;  // To prevent multiple clicks.\n",
              "      quickchartButtonEl.classList.add('colab-df-spinner');\n",
              "      try {\n",
              "        const charts = await google.colab.kernel.invokeFunction(\n",
              "            'suggestCharts', [key], {});\n",
              "      } catch (error) {\n",
              "        console.error('Error during call to suggestCharts:', error);\n",
              "      }\n",
              "      quickchartButtonEl.classList.remove('colab-df-spinner');\n",
              "      quickchartButtonEl.classList.add('colab-df-quickchart-complete');\n",
              "    }\n",
              "    (() => {\n",
              "      let quickchartButtonEl =\n",
              "        document.querySelector('#df-4e68195a-9894-4863-ac01-8ecf004c7cb9 button');\n",
              "      quickchartButtonEl.style.display =\n",
              "        google.colab.kernel.accessAllowed ? 'block' : 'none';\n",
              "    })();\n",
              "  </script>\n",
              "</div>\n",
              "    </div>\n",
              "  </div>\n"
            ],
            "text/plain": [
              "                                                text       id  \\\n",
              "0                                    That game hurt.  eew5j0j   \n",
              "1   >sexuality shouldn’t be a grouping category I...  eemcysk   \n",
              "2     You do right, if you don't care then fuck 'em!  ed2mah1   \n",
              "3                                 Man I love reddit.  eeibobj   \n",
              "4  [NAME] was nowhere near them, he was by the Fa...  eda6yn6   \n",
              "\n",
              "                author            subreddit    link_id   parent_id  \\\n",
              "0                Brdd9                  nrl  t3_ajis4z  t1_eew18eq   \n",
              "1          TheGreen888     unpopularopinion  t3_ai4q37   t3_ai4q37   \n",
              "2             Labalool          confessions  t3_abru74  t1_ed2m7g7   \n",
              "3        MrsRobertshaw             facepalm  t3_ahulml   t3_ahulml   \n",
              "4  American_Fascist713  starwarsspeculation  t3_ackt2f  t1_eda65q2   \n",
              "\n",
              "    created_utc  rater_id  example_very_unclear  admiration  ...  love  \\\n",
              "0  1.548381e+09         1                 False           0  ...     0   \n",
              "1  1.548084e+09        37                  True           0  ...     0   \n",
              "2  1.546428e+09        37                 False           0  ...     0   \n",
              "3  1.547965e+09        18                 False           0  ...     1   \n",
              "4  1.546669e+09         2                 False           0  ...     0   \n",
              "\n",
              "   nervousness  optimism  pride  realization  relief  remorse  sadness  \\\n",
              "0            0         0      0            0       0        0        1   \n",
              "1            0         0      0            0       0        0        0   \n",
              "2            0         0      0            0       0        0        0   \n",
              "3            0         0      0            0       0        0        0   \n",
              "4            0         0      0            0       0        0        0   \n",
              "\n",
              "   surprise  neutral  \n",
              "0         0        0  \n",
              "1         0        0  \n",
              "2         0        1  \n",
              "3         0        0  \n",
              "4         0        1  \n",
              "\n",
              "[5 rows x 37 columns]"
            ]
          },
          "execution_count": 7,
          "metadata": {},
          "output_type": "execute_result"
        }
      ],
      "source": [
        "goemo_all.head()"
      ]
    },
    {
      "cell_type": "markdown",
      "metadata": {
        "id": "fFoFdBXwsyWZ"
      },
      "source": [
        "## Data Exploration"
      ]
    },
    {
      "cell_type": "code",
      "execution_count": 6,
      "metadata": {
        "colab": {
          "base_uri": "https://localhost:8080/"
        },
        "id": "_0WJkBlfsyWZ",
        "outputId": "a790b7ba-2069-46fb-d7c4-1e3ad6923e16"
      },
      "outputs": [
        {
          "output_type": "stream",
          "name": "stdout",
          "text": [
            "['admiration', 'amusement', 'anger', 'annoyance', 'approval', 'caring', 'confusion', 'curiosity', 'desire', 'disappointment', 'disapproval', 'disgust', 'embarrassment', 'excitement', 'fear', 'gratitude', 'grief', 'joy', 'love', 'nervousness', 'optimism', 'pride', 'realization', 'relief', 'remorse', 'sadness', 'surprise', 'neutral'] \n",
            "28\n"
          ]
        }
      ],
      "source": [
        "emotion_initial_index = goemo_all.columns.tolist().index('admiration')\n",
        "labels = goemo_all.columns.tolist()[emotion_initial_index:]\n",
        "print(f\"{labels} \\n{len(labels)}\")"
      ]
    },
    {
      "cell_type": "code",
      "execution_count": null,
      "metadata": {
        "colab": {
          "base_uri": "https://localhost:8080/"
        },
        "id": "IYQkK9dDsyWZ",
        "outputId": "aceb3f73-2e6b-49c0-8c2d-9f55cbe429f7"
      },
      "outputs": [
        {
          "name": "stdout",
          "output_type": "stream",
          "text": [
            "Number of texts with more than 50 characters: 136658: 64.69783406320275%\n"
          ]
        }
      ],
      "source": [
        "no_text_more_than_50 = 0\n",
        "for text in goemo_all['text']:\n",
        "    if len(text) > 50:\n",
        "        no_text_more_than_50 += 1\n",
        "print(f\"Number of texts with more than 50 characters: {no_text_more_than_50}: {no_text_more_than_50/len(goemo_all)*100}%\")"
      ]
    },
    {
      "cell_type": "code",
      "execution_count": 7,
      "metadata": {
        "colab": {
          "base_uri": "https://localhost:8080/"
        },
        "id": "ixQdQOgJrSbT",
        "outputId": "ab3fe4b9-f1b9-407e-f25d-3d542ea63161"
      },
      "outputs": [
        {
          "output_type": "stream",
          "name": "stdout",
          "text": [
            "[('ﾉωﾉ', 30698), ('카니발', 30697), ('병무청', 30696), ('개인면허', 30695), ('玛雅', 30694), ('查清', 30693), ('在中国你做什么', 30692), ('加油', 30691), ('中国人', 30690), ('ᴡᴀɪᴛ', 30689), ('ᴡᴀsᴛᴇ', 30688), ('ᴛʜɪs', 30687), ('ᴍɪɴᴜᴛᴇ', 30686), ('וליאן', 30685), ('ˈtechē', 30684), ('ˈsatʌɪə', 30683), ('ˈbɪɡət', 30682), ('ɹǝʍsuɐ', 30681), ('ɴᴏ', 30680), ('ɪs', 30679)]\n"
          ]
        }
      ],
      "source": [
        "vec = CountVectorizer()\n",
        "X = vec.fit_transform(goemo_all['text'])\n",
        "\n",
        "words = vec.vocabulary_\n",
        "sorted_words = sorted(words.items(), key=lambda x: x[1], reverse=True)\n",
        "print(sorted_words[:20])"
      ]
    },
    {
      "cell_type": "code",
      "execution_count": null,
      "metadata": {
        "colab": {
          "base_uri": "https://localhost:8080/",
          "height": 1000
        },
        "id": "nedutZaGrSbW",
        "outputId": "94ce3ae2-9636-4774-b639-1a7fdc5c5559"
      },
      "outputs": [
        {
          "name": "stderr",
          "output_type": "stream",
          "text": [
            "/usr/local/lib/python3.10/dist-packages/IPython/core/pylabtools.py:151: UserWarning: Glyph 65417 (\\N{HALFWIDTH KATAKANA LETTER NO}) missing from current font.\n",
            "  fig.canvas.print_figure(bytes_io, **kw)\n",
            "/usr/local/lib/python3.10/dist-packages/IPython/core/pylabtools.py:151: UserWarning: Glyph 52852 (\\N{HANGUL SYLLABLE KA}) missing from current font.\n",
            "  fig.canvas.print_figure(bytes_io, **kw)\n",
            "/usr/local/lib/python3.10/dist-packages/IPython/core/pylabtools.py:151: UserWarning: Glyph 45768 (\\N{HANGUL SYLLABLE NI}) missing from current font.\n",
            "  fig.canvas.print_figure(bytes_io, **kw)\n",
            "/usr/local/lib/python3.10/dist-packages/IPython/core/pylabtools.py:151: UserWarning: Glyph 48156 (\\N{HANGUL SYLLABLE BAL}) missing from current font.\n",
            "  fig.canvas.print_figure(bytes_io, **kw)\n",
            "/usr/local/lib/python3.10/dist-packages/IPython/core/pylabtools.py:151: UserWarning: Glyph 48337 (\\N{HANGUL SYLLABLE BYEONG}) missing from current font.\n",
            "  fig.canvas.print_figure(bytes_io, **kw)\n",
            "/usr/local/lib/python3.10/dist-packages/IPython/core/pylabtools.py:151: UserWarning: Glyph 47924 (\\N{HANGUL SYLLABLE MU}) missing from current font.\n",
            "  fig.canvas.print_figure(bytes_io, **kw)\n",
            "/usr/local/lib/python3.10/dist-packages/IPython/core/pylabtools.py:151: UserWarning: Glyph 52397 (\\N{HANGUL SYLLABLE CEONG}) missing from current font.\n",
            "  fig.canvas.print_figure(bytes_io, **kw)\n",
            "/usr/local/lib/python3.10/dist-packages/IPython/core/pylabtools.py:151: UserWarning: Glyph 44060 (\\N{HANGUL SYLLABLE GAE}) missing from current font.\n",
            "  fig.canvas.print_figure(bytes_io, **kw)\n",
            "/usr/local/lib/python3.10/dist-packages/IPython/core/pylabtools.py:151: UserWarning: Glyph 51064 (\\N{HANGUL SYLLABLE IN}) missing from current font.\n",
            "  fig.canvas.print_figure(bytes_io, **kw)\n",
            "/usr/local/lib/python3.10/dist-packages/IPython/core/pylabtools.py:151: UserWarning: Glyph 47732 (\\N{HANGUL SYLLABLE MYEON}) missing from current font.\n",
            "  fig.canvas.print_figure(bytes_io, **kw)\n",
            "/usr/local/lib/python3.10/dist-packages/IPython/core/pylabtools.py:151: UserWarning: Glyph 54728 (\\N{HANGUL SYLLABLE HEO}) missing from current font.\n",
            "  fig.canvas.print_figure(bytes_io, **kw)\n",
            "/usr/local/lib/python3.10/dist-packages/IPython/core/pylabtools.py:151: UserWarning: Glyph 29595 (\\N{CJK UNIFIED IDEOGRAPH-739B}) missing from current font.\n",
            "  fig.canvas.print_figure(bytes_io, **kw)\n",
            "/usr/local/lib/python3.10/dist-packages/IPython/core/pylabtools.py:151: UserWarning: Glyph 38597 (\\N{CJK UNIFIED IDEOGRAPH-96C5}) missing from current font.\n",
            "  fig.canvas.print_figure(bytes_io, **kw)\n",
            "/usr/local/lib/python3.10/dist-packages/IPython/core/pylabtools.py:151: UserWarning: Glyph 26597 (\\N{CJK UNIFIED IDEOGRAPH-67E5}) missing from current font.\n",
            "  fig.canvas.print_figure(bytes_io, **kw)\n",
            "/usr/local/lib/python3.10/dist-packages/IPython/core/pylabtools.py:151: UserWarning: Glyph 28165 (\\N{CJK UNIFIED IDEOGRAPH-6E05}) missing from current font.\n",
            "  fig.canvas.print_figure(bytes_io, **kw)\n",
            "/usr/local/lib/python3.10/dist-packages/IPython/core/pylabtools.py:151: UserWarning: Glyph 22312 (\\N{CJK UNIFIED IDEOGRAPH-5728}) missing from current font.\n",
            "  fig.canvas.print_figure(bytes_io, **kw)\n",
            "/usr/local/lib/python3.10/dist-packages/IPython/core/pylabtools.py:151: UserWarning: Glyph 20013 (\\N{CJK UNIFIED IDEOGRAPH-4E2D}) missing from current font.\n",
            "  fig.canvas.print_figure(bytes_io, **kw)\n",
            "/usr/local/lib/python3.10/dist-packages/IPython/core/pylabtools.py:151: UserWarning: Glyph 22269 (\\N{CJK UNIFIED IDEOGRAPH-56FD}) missing from current font.\n",
            "  fig.canvas.print_figure(bytes_io, **kw)\n",
            "/usr/local/lib/python3.10/dist-packages/IPython/core/pylabtools.py:151: UserWarning: Glyph 20320 (\\N{CJK UNIFIED IDEOGRAPH-4F60}) missing from current font.\n",
            "  fig.canvas.print_figure(bytes_io, **kw)\n",
            "/usr/local/lib/python3.10/dist-packages/IPython/core/pylabtools.py:151: UserWarning: Glyph 20570 (\\N{CJK UNIFIED IDEOGRAPH-505A}) missing from current font.\n",
            "  fig.canvas.print_figure(bytes_io, **kw)\n",
            "/usr/local/lib/python3.10/dist-packages/IPython/core/pylabtools.py:151: UserWarning: Glyph 20160 (\\N{CJK UNIFIED IDEOGRAPH-4EC0}) missing from current font.\n",
            "  fig.canvas.print_figure(bytes_io, **kw)\n",
            "/usr/local/lib/python3.10/dist-packages/IPython/core/pylabtools.py:151: UserWarning: Glyph 20040 (\\N{CJK UNIFIED IDEOGRAPH-4E48}) missing from current font.\n",
            "  fig.canvas.print_figure(bytes_io, **kw)\n",
            "/usr/local/lib/python3.10/dist-packages/IPython/core/pylabtools.py:151: UserWarning: Glyph 21152 (\\N{CJK UNIFIED IDEOGRAPH-52A0}) missing from current font.\n",
            "  fig.canvas.print_figure(bytes_io, **kw)\n",
            "/usr/local/lib/python3.10/dist-packages/IPython/core/pylabtools.py:151: UserWarning: Glyph 27833 (\\N{CJK UNIFIED IDEOGRAPH-6CB9}) missing from current font.\n",
            "  fig.canvas.print_figure(bytes_io, **kw)\n",
            "/usr/local/lib/python3.10/dist-packages/IPython/core/pylabtools.py:151: UserWarning: Glyph 20154 (\\N{CJK UNIFIED IDEOGRAPH-4EBA}) missing from current font.\n",
            "  fig.canvas.print_figure(bytes_io, **kw)\n"
          ]
        },
        {
          "data": {
            "image/png": "[encoded data removed]",
            "text/plain": [
              "<Figure size 1200x600 with 1 Axes>"
            ]
          },
          "metadata": {},
          "output_type": "display_data"
        }
      ],
      "source": [
        "top_20_words = sorted_words[:20]\n",
        "words, frequencies = zip(*top_20_words)\n",
        "\n",
        "plt.figure(figsize=(12, 6))\n",
        "plt.bar(words, frequencies)\n",
        "plt.xlabel('Words')\n",
        "plt.ylabel('Frequency')\n",
        "plt.title('Top 20 Word Frequency')\n",
        "plt.ylim(frequencies[-1] - 50, frequencies[0] + 50)\n",
        "plt.show()"
      ]
    },
    {
      "cell_type": "code",
      "execution_count": null,
      "metadata": {
        "colab": {
          "base_uri": "https://localhost:8080/"
        },
        "id": "60-mU3p_rSbY",
        "outputId": "09d9b6bf-0f24-4620-98d0-2123ea147db8"
      },
      "outputs": [
        {
          "name": "stdout",
          "output_type": "stream",
          "text": [
            "{'.': 229770, '>': 3348, '\"': 12086, ',': 69932, \"'\": 73015, '!': 41885, '[': 37848, ']': 37831, '?': 25849, ';': 988, '/': 6151, '-': 9591, '<': 529, '$': 834, '(': 4325, ')': 5809, '#': 845, ':': 7648, '*': 9585, '_': 690, '|': 456, '%': 1022, '+': 593, '&': 403, '~': 1086, '^': 1646, '=': 461, '`': 25, '@': 138, '\\\\': 44, '{': 9, '}': 18}\n"
          ]
        }
      ],
      "source": [
        "def count_punctuation(text):\n",
        "    punctuations = string.punctuation\n",
        "    concatenated = \" \".join(text)\n",
        "    punctuation_count = {}\n",
        "    for char in concatenated:\n",
        "        if char in punctuations:\n",
        "            if char in punctuation_count:\n",
        "                punctuation_count[char] += 1\n",
        "            else:\n",
        "                punctuation_count[char] = 1\n",
        "    return punctuation_count\n",
        "\n",
        "punctuation_count = count_punctuation(goemo_all[\"text\"])\n",
        "print(punctuation_count)\n"
      ]
    },
    {
      "cell_type": "code",
      "execution_count": null,
      "metadata": {
        "colab": {
          "base_uri": "https://localhost:8080/"
        },
        "id": "9zwJ4YXdC061",
        "outputId": "87c48590-e467-4941-e7d0-4c425e78e0e7"
      },
      "outputs": [
        {
          "name": "stdout",
          "output_type": "stream",
          "text": [
            "77\n"
          ]
        }
      ],
      "source": [
        "num_names_list = [text.count('[NAME]') for text in goemo_all['text']]\n",
        "num_names_list = list(filter(lambda x: x >= 5, num_names_list))\n",
        "print(len(num_names_list))"
      ]
    },
    {
      "cell_type": "code",
      "execution_count": null,
      "metadata": {
        "colab": {
          "base_uri": "https://localhost:8080/",
          "height": 467
        },
        "id": "0D6WgM52X--6",
        "outputId": "1592b6b0-16cc-4b02-eea7-5f4435bb63b2"
      },
      "outputs": [
        {
          "data": {
            "image/png": "[encoded data removed]",
            "text/plain": [
              "<Figure size 1000x600 with 1 Axes>"
            ]
          },
          "metadata": {},
          "output_type": "display_data"
        }
      ],
      "source": [
        "emotion_label_distribution = goemo_all[labels].sum()\n",
        "\n",
        "plt.figure(figsize=(10, 6))\n",
        "emotion_label_distribution.plot(kind='bar')\n",
        "plt.title('Emotion Label Distribution')\n",
        "plt.xlabel('Labels')\n",
        "plt.ylabel('Frequency')\n",
        "plt.xticks(rotation=45)\n",
        "plt.tight_layout()\n",
        "plt.show()"
      ]
    },
    {
      "cell_type": "code",
      "execution_count": null,
      "metadata": {
        "colab": {
          "base_uri": "https://localhost:8080/"
        },
        "id": "q3lUCuNBYfAc",
        "outputId": "6276299a-1778-4bb6-9574-2debf7d2871c"
      },
      "outputs": [
        {
          "name": "stdout",
          "output_type": "stream",
          "text": [
            "Label Distribution:\n",
            "neutral           55298\n",
            "approval          17620\n",
            "admiration        17131\n",
            "annoyance         13618\n",
            "gratitude         11625\n",
            "disapproval       11424\n",
            "curiosity          9692\n",
            "amusement          9245\n",
            "realization        8785\n",
            "optimism           8715\n",
            "disappointment     8469\n",
            "love               8191\n",
            "anger              8084\n",
            "joy                7983\n",
            "confusion          7359\n",
            "sadness            6758\n",
            "caring             5999\n",
            "excitement         5629\n",
            "surprise           5514\n",
            "disgust            5301\n",
            "desire             3817\n",
            "fear               3197\n",
            "remorse            2525\n",
            "embarrassment      2476\n",
            "nervousness        1810\n",
            "pride              1302\n",
            "relief             1289\n",
            "grief               673\n",
            "dtype: int64\n"
          ]
        }
      ],
      "source": [
        "label_distribution_series = pd.Series(emotion_label_distribution, index=labels)\n",
        "label_distribution_series_sorted = label_distribution_series.sort_values(ascending=False)\n",
        "\n",
        "print(\"Label Distribution:\")\n",
        "print(label_distribution_series_sorted)"
      ]
    },
    {
      "cell_type": "markdown",
      "metadata": {
        "id": "F2sIJ9MIsyWZ"
      },
      "source": [
        "## Data Preprocessing"
      ]
    },
    {
      "cell_type": "markdown",
      "metadata": {
        "id": "ST6Xbq1F6ptn"
      },
      "source": [
        "### Data Cleaning"
      ]
    },
    {
      "cell_type": "code",
      "execution_count": null,
      "metadata": {
        "id": "wB4eYbezdUZC"
      },
      "outputs": [],
      "source": [
        "necessary_features_to_keep = goemo_all.columns[:1].append(goemo_all.columns[emotion_initial_index:])\n",
        "goemo_all_selected = goemo_all[necessary_features_to_keep]"
      ]
    },
    {
      "cell_type": "code",
      "execution_count": null,
      "metadata": {
        "colab": {
          "base_uri": "https://localhost:8080/"
        },
        "id": "EgJ_pOUbcbLk",
        "outputId": "cdff61b6-4dea-4182-f574-44b0d38f2bdf"
      },
      "outputs": [
        {
          "name": "stdout",
          "output_type": "stream",
          "text": [
            "Number of rows where 'neutral' is 1 and total labels > 1: 0\n"
          ]
        }
      ],
      "source": [
        "label_columns = goemo_all_selected.columns[1:]\n",
        "neutral_rows = goemo_all_selected[(goemo_all_selected['neutral'] == 1) & (goemo_all_selected[label_columns].sum(axis=1) > 1)]\n",
        "count_neutral_more_than_1 = len(neutral_rows)\n",
        "\n",
        "print(\"Number of rows where 'neutral' is 1 and total labels > 1:\", count_neutral_more_than_1)"
      ]
    },
    {
      "cell_type": "code",
      "execution_count": null,
      "metadata": {
        "id": "KeePPevwf5ap"
      },
      "outputs": [],
      "source": [
        "neutral_indices = np.random.choice(goemo_all_selected[goemo_all_selected['neutral'] == 1].index, size=(label_distribution_series_sorted[0] - label_distribution_series_sorted[1]), replace=False)\n",
        "geomo_all_neutral_undersampled = goemo_all_selected.drop(neutral_indices)"
      ]
    },
    {
      "cell_type": "code",
      "execution_count": null,
      "metadata": {
        "colab": {
          "base_uri": "https://localhost:8080/",
          "height": 467
        },
        "id": "GpJt3RkziOqj",
        "outputId": "02a18c64-7319-483a-95e3-33958c561aae"
      },
      "outputs": [
        {
          "data": {
            "image/png": "[encoded data removed]",
            "text/plain": [
              "<Figure size 1000x600 with 1 Axes>"
            ]
          },
          "metadata": {},
          "output_type": "display_data"
        }
      ],
      "source": [
        "emotion_label_undersampled_distribution = geomo_all_neutral_undersampled[labels].sum()\n",
        "\n",
        "plt.figure(figsize=(10, 6))\n",
        "emotion_label_undersampled_distribution.plot(kind='bar')\n",
        "plt.title('Emotion Label Distribution After Undersampling')\n",
        "plt.xlabel('Labels')\n",
        "plt.ylabel('Frequency')\n",
        "plt.xticks(rotation=45)\n",
        "plt.tight_layout()\n",
        "plt.show()"
      ]
    },
    {
      "cell_type": "code",
      "execution_count": null,
      "metadata": {
        "colab": {
          "base_uri": "https://localhost:8080/"
        },
        "id": "2NnmX-2KgYKS",
        "outputId": "a9f538f2-a1e8-4af7-e3d3-6a7f5d4d3232"
      },
      "outputs": [
        {
          "name": "stdout",
          "output_type": "stream",
          "text": [
            "Label Distribution:\n",
            "neutral           17620\n",
            "approval          17620\n",
            "admiration        17131\n",
            "annoyance         13618\n",
            "gratitude         11625\n",
            "disapproval       11424\n",
            "curiosity          9692\n",
            "amusement          9245\n",
            "realization        8785\n",
            "optimism           8715\n",
            "disappointment     8469\n",
            "love               8191\n",
            "anger              8084\n",
            "joy                7983\n",
            "confusion          7359\n",
            "sadness            6758\n",
            "caring             5999\n",
            "excitement         5629\n",
            "surprise           5514\n",
            "disgust            5301\n",
            "desire             3817\n",
            "fear               3197\n",
            "remorse            2525\n",
            "embarrassment      2476\n",
            "nervousness        1810\n",
            "pride              1302\n",
            "relief             1289\n",
            "grief               673\n",
            "dtype: int64\n"
          ]
        }
      ],
      "source": [
        "emotion_label_distribution_undersampled = geomo_all_neutral_undersampled[labels].sum()\n",
        "label_distribution_undersampled_series = pd.Series(emotion_label_distribution_undersampled, index=labels)\n",
        "label_distribution_undersampled_series_sorted = label_distribution_undersampled_series.sort_values(ascending=False)\n",
        "\n",
        "print(\"Label Distribution:\")\n",
        "print(label_distribution_undersampled_series_sorted)"
      ]
    },
    {
      "cell_type": "code",
      "execution_count": null,
      "metadata": {
        "colab": {
          "base_uri": "https://localhost:8080/"
        },
        "id": "BCMgbLtYidwb",
        "outputId": "932973b9-7022-442f-c5ba-662fa41e4126"
      },
      "outputs": [
        {
          "name": "stdout",
          "output_type": "stream",
          "text": [
            "173547\n"
          ]
        }
      ],
      "source": [
        "print(len(geomo_all_neutral_undersampled))"
      ]
    },
    {
      "cell_type": "code",
      "execution_count": null,
      "metadata": {
        "id": "DcB6W-Bt1mfV"
      },
      "outputs": [],
      "source": [
        "contraction_mapping = {'u.s':'america', 'e.g.':'for example', 'e.g': \"for example\"}\n",
        "remove_words = [\"they\", \"she\", \"need\", \"there\", \"this\", \"that\", \"those\", \"these\", \"should\",\n",
        "                \"could\", \"ought\", \"would\", \"will\", \"have\", \"has\", \"had\", \"might\", \"may\", \"sha\",\n",
        "                \"shall\", \"must\", \"are\", \"were\", \"was\", \"does\", \"did\", \"how\", \"who\", \"why\",\n",
        "                \"what\", \"where\", \"when\", \"whose\", \"whom\", \"ain\", \"theyve\", \"Ive\", \"you\",\n",
        "                \"theyre\", \"shes\", \"hes\", \"werent\", \"wasnt\", \"yall\", \"theirs\", \"yours\", \"his\",\n",
        "                \"her\", \"hers\", \"him\", \"their\", \"them\", \"mine\", \"maam\", \"its\"]\n",
        "exception_two_words = [\"yo\", \"ew\", \"ya\", \"um\", \"oh\", \"ok\", \"or\", \"eh\", \"aw\", \"hi\", \"ho\", \"ay\", \"ai\",\n",
        "                       \"em\", \"if\", \"lo\", \"in\", \"op\", \"uh\", \"um\", \"ye\"]\n",
        "mispell_dict = {'colour': 'color', 'centre': 'center', 'favourite': 'favorite', 'travelling': 'traveling', 'counselling': 'counseling', 'theatre': 'theater',\n",
        "                'cancelled': 'canceled', 'labour': 'labor', 'organisation': 'organization', 'wwii': 'world war 2', 'citicise': 'criticize', 'youtu': 'youtube ',\n",
        "                'Qoura': 'Quora', 'sallary': 'salary', 'Whta': 'What', 'narcisist': 'narcissist', 'howdo': 'how do', 'whatare': 'what are', 'howcan': 'how can',\n",
        "                'howmuch': 'how much', 'howmany': 'how many', 'whydo': 'why do', 'doI': 'do I', 'theBest': 'the best', 'howdoes': 'how does',\n",
        "                'mastrubation': 'masturbation', 'mastrubate': 'masturbate', \"mastrubating\": 'masturbating', 'pennis': 'penis', 'Etherium': 'Ethereum',\n",
        "                'narcissit': 'narcissist', 'bigdata': 'big data', '2k17': '2017', '2k18': '2018', 'qouta': 'quota', 'exboyfriend': 'ex boyfriend',\n",
        "                'airhostess': 'air hostess', \"whst\": 'what', 'watsapp': 'whatsapp', 'demonitisation': 'demonetization', 'demonitization': 'demonetization',\n",
        "                'demonetisation': 'demonetization', \"arent\": \"are not\", \"isnt\": \"is not\", \"aint\": \"not\",  'coz': 'because', 'therefore': 'so', 'thus': 'so', 'hence': 'so'}\n",
        "# t --> before cancel\n",
        "# if t before is a can --> cannot\n",
        "# remove single letter\n"
      ]
    },
    {
      "cell_type": "code",
      "execution_count": null,
      "metadata": {
        "id": "Ma68qQI36tLR"
      },
      "outputs": [],
      "source": [
        "def remove_name(text):\n",
        "  return text.replace('[NAME]', '')\n",
        "\n",
        "def replace_emoji_text(text):\n",
        "  return emoji.demojize(text, delimiters=(\"\", \"\"))\n",
        "\n",
        "def contraction_mapping_fun(text):\n",
        "  word_list = text.split(\" \")\n",
        "  length = len(word_list)\n",
        "\n",
        "  for i in range(length - 1, -1, -1):\n",
        "    word = word_list[i]\n",
        "    if word == \"\":\n",
        "      continue\n",
        "    word = word.lower()\n",
        "    if word == \"t\" and i > 0:\n",
        "      if word_list[i-1] == \"can\":\n",
        "        word_list[i-1] = \"cannot\"\n",
        "      else:\n",
        "        word_list[i] = \"not\"\n",
        "        word_list[i-1] = \"\"\n",
        "    elif len(word) <= 2 and word not in exception_two_words:\n",
        "      word_list[i] = \"\"\n",
        "    elif word in remove_words:\n",
        "      word_list[i] = \"\"\n",
        "\n",
        "  text = ' '.join(map(str, word_list))\n",
        "  return text\n",
        "\n",
        "def mispelled_word(text):\n",
        "  word_list = text.split(\" \")\n",
        "  length = len(word_list)\n",
        "  for i in range(length - 1, -1, -1):\n",
        "    word = word_list[i].lower()\n",
        "    if word in mispell_dict:\n",
        "      word_list[i] = mispell_dict[word]\n",
        "\n",
        "  text = ' '.join(map(str, word_list))\n",
        "  return text\n",
        "\n",
        "def retain_english_text(text):\n",
        "  word_list = text.split(\" \")\n",
        "  for i in range(len(word_list)):\n",
        "    ele = word_list[i].lower()\n",
        "    if ele in contraction_mapping:\n",
        "      word_list[i] = contraction_mapping[ele]\n",
        "\n",
        "  text = ' '.join(map(str, word_list))\n",
        "  text = re.sub(r'[^a-zA-Z\\s]', '', text)\n",
        "  text = mispelled_word(text)\n",
        "  text = contraction_mapping_fun(text)\n",
        "  return text\n",
        "\n",
        "def data_cleaning_pipeline(text):\n",
        "  text = remove_name(text)\n",
        "  text = replace_emoji_text(text)\n",
        "  text = retain_english_text(text)\n",
        "  text = \" \".join(text.split())\n",
        "  return text"
      ]
    },
    {
      "cell_type": "code",
      "execution_count": null,
      "metadata": {
        "id": "uZ4EflruUlmp"
      },
      "outputs": [],
      "source": [
        "geomo_all_neutral_undersampled['text'] = geomo_all_neutral_undersampled['text'].apply(data_cleaning_pipeline)"
      ]
    },
    {
      "cell_type": "code",
      "execution_count": null,
      "metadata": {
        "colab": {
          "base_uri": "https://localhost:8080/",
          "height": 481
        },
        "id": "lNobiR4mWD_4",
        "outputId": "4fbc2d7e-7d2a-4264-9dea-bd2a475f24b8"
      },
      "outputs": [
        {
          "data": {
            "application/vnd.google.colaboratory.intrinsic+json": {
              "type": "dataframe",
              "variable_name": "geomo_all_neutral_undersampled"
            },
            "text/html": [
              "\n",
              "  <div id=\"df-f054f777-9e4f-42c4-9913-7a6cc4799e9b\" class=\"colab-df-container\">\n",
              "    <div>\n",
              "<style scoped>\n",
              "    .dataframe tbody tr th:only-of-type {\n",
              "        vertical-align: middle;\n",
              "    }\n",
              "\n",
              "    .dataframe tbody tr th {\n",
              "        vertical-align: top;\n",
              "    }\n",
              "\n",
              "    .dataframe thead th {\n",
              "        text-align: right;\n",
              "    }\n",
              "</style>\n",
              "<table border=\"1\" class=\"dataframe\">\n",
              "  <thead>\n",
              "    <tr style=\"text-align: right;\">\n",
              "      <th></th>\n",
              "      <th>text</th>\n",
              "      <th>admiration</th>\n",
              "      <th>amusement</th>\n",
              "      <th>anger</th>\n",
              "      <th>annoyance</th>\n",
              "      <th>approval</th>\n",
              "      <th>caring</th>\n",
              "      <th>confusion</th>\n",
              "      <th>curiosity</th>\n",
              "      <th>desire</th>\n",
              "      <th>...</th>\n",
              "      <th>love</th>\n",
              "      <th>nervousness</th>\n",
              "      <th>optimism</th>\n",
              "      <th>pride</th>\n",
              "      <th>realization</th>\n",
              "      <th>relief</th>\n",
              "      <th>remorse</th>\n",
              "      <th>sadness</th>\n",
              "      <th>surprise</th>\n",
              "      <th>neutral</th>\n",
              "    </tr>\n",
              "  </thead>\n",
              "  <tbody>\n",
              "    <tr>\n",
              "      <th>0</th>\n",
              "      <td>game hurt</td>\n",
              "      <td>0</td>\n",
              "      <td>0</td>\n",
              "      <td>0</td>\n",
              "      <td>0</td>\n",
              "      <td>0</td>\n",
              "      <td>0</td>\n",
              "      <td>0</td>\n",
              "      <td>0</td>\n",
              "      <td>0</td>\n",
              "      <td>...</td>\n",
              "      <td>0</td>\n",
              "      <td>0</td>\n",
              "      <td>0</td>\n",
              "      <td>0</td>\n",
              "      <td>0</td>\n",
              "      <td>0</td>\n",
              "      <td>0</td>\n",
              "      <td>1</td>\n",
              "      <td>0</td>\n",
              "      <td>0</td>\n",
              "    </tr>\n",
              "    <tr>\n",
              "      <th>1</th>\n",
              "      <td>sexuality shouldnt grouping category makes dif...</td>\n",
              "      <td>0</td>\n",
              "      <td>0</td>\n",
              "      <td>0</td>\n",
              "      <td>0</td>\n",
              "      <td>0</td>\n",
              "      <td>0</td>\n",
              "      <td>0</td>\n",
              "      <td>0</td>\n",
              "      <td>0</td>\n",
              "      <td>...</td>\n",
              "      <td>0</td>\n",
              "      <td>0</td>\n",
              "      <td>0</td>\n",
              "      <td>0</td>\n",
              "      <td>0</td>\n",
              "      <td>0</td>\n",
              "      <td>0</td>\n",
              "      <td>0</td>\n",
              "      <td>0</td>\n",
              "      <td>0</td>\n",
              "    </tr>\n",
              "    <tr>\n",
              "      <th>3</th>\n",
              "      <td>Man love reddit</td>\n",
              "      <td>0</td>\n",
              "      <td>0</td>\n",
              "      <td>0</td>\n",
              "      <td>0</td>\n",
              "      <td>0</td>\n",
              "      <td>0</td>\n",
              "      <td>0</td>\n",
              "      <td>0</td>\n",
              "      <td>0</td>\n",
              "      <td>...</td>\n",
              "      <td>1</td>\n",
              "      <td>0</td>\n",
              "      <td>0</td>\n",
              "      <td>0</td>\n",
              "      <td>0</td>\n",
              "      <td>0</td>\n",
              "      <td>0</td>\n",
              "      <td>0</td>\n",
              "      <td>0</td>\n",
              "      <td>0</td>\n",
              "    </tr>\n",
              "    <tr>\n",
              "      <th>5</th>\n",
              "      <td>Right Considering such important document know...</td>\n",
              "      <td>0</td>\n",
              "      <td>0</td>\n",
              "      <td>0</td>\n",
              "      <td>0</td>\n",
              "      <td>0</td>\n",
              "      <td>0</td>\n",
              "      <td>0</td>\n",
              "      <td>0</td>\n",
              "      <td>0</td>\n",
              "      <td>...</td>\n",
              "      <td>0</td>\n",
              "      <td>0</td>\n",
              "      <td>0</td>\n",
              "      <td>0</td>\n",
              "      <td>0</td>\n",
              "      <td>0</td>\n",
              "      <td>0</td>\n",
              "      <td>0</td>\n",
              "      <td>0</td>\n",
              "      <td>0</td>\n",
              "    </tr>\n",
              "    <tr>\n",
              "      <th>6</th>\n",
              "      <td>not big but still quite popular Ive heard the ...</td>\n",
              "      <td>0</td>\n",
              "      <td>0</td>\n",
              "      <td>0</td>\n",
              "      <td>0</td>\n",
              "      <td>0</td>\n",
              "      <td>0</td>\n",
              "      <td>0</td>\n",
              "      <td>0</td>\n",
              "      <td>0</td>\n",
              "      <td>...</td>\n",
              "      <td>0</td>\n",
              "      <td>0</td>\n",
              "      <td>0</td>\n",
              "      <td>0</td>\n",
              "      <td>0</td>\n",
              "      <td>0</td>\n",
              "      <td>0</td>\n",
              "      <td>0</td>\n",
              "      <td>0</td>\n",
              "      <td>0</td>\n",
              "    </tr>\n",
              "  </tbody>\n",
              "</table>\n",
              "<p>5 rows × 29 columns</p>\n",
              "</div>\n",
              "    <div class=\"colab-df-buttons\">\n",
              "\n",
              "  <div class=\"colab-df-container\">\n",
              "    <button class=\"colab-df-convert\" onclick=\"convertToInteractive('df-f054f777-9e4f-42c4-9913-7a6cc4799e9b')\"\n",
              "            title=\"Convert this dataframe to an interactive table.\"\n",
              "            style=\"display:none;\">\n",
              "\n",
              "  <svg xmlns=\"http://www.w3.org/2000/svg\" height=\"24px\" viewBox=\"0 -960 960 960\">\n",
              "    <path d=\"M120-120v-720h720v720H120Zm60-500h600v-160H180v160Zm220 220h160v-160H400v160Zm0 220h160v-160H400v160ZM180-400h160v-160H180v160Zm440 0h160v-160H620v160ZM180-180h160v-160H180v160Zm440 0h160v-160H620v160Z\"/>\n",
              "  </svg>\n",
              "    </button>\n",
              "\n",
              "  <style>\n",
              "    .colab-df-container {\n",
              "      display:flex;\n",
              "      gap: 12px;\n",
              "    }\n",
              "\n",
              "    .colab-df-convert {\n",
              "      background-color: #E8F0FE;\n",
              "      border: none;\n",
              "      border-radius: 50%;\n",
              "      cursor: pointer;\n",
              "      display: none;\n",
              "      fill: #1967D2;\n",
              "      height: 32px;\n",
              "      padding: 0 0 0 0;\n",
              "      width: 32px;\n",
              "    }\n",
              "\n",
              "    .colab-df-convert:hover {\n",
              "      background-color: #E2EBFA;\n",
              "      box-shadow: 0px 1px 2px rgba(60, 64, 67, 0.3), 0px 1px 3px 1px rgba(60, 64, 67, 0.15);\n",
              "      fill: #174EA6;\n",
              "    }\n",
              "\n",
              "    .colab-df-buttons div {\n",
              "      margin-bottom: 4px;\n",
              "    }\n",
              "\n",
              "    [theme=dark] .colab-df-convert {\n",
              "      background-color: #3B4455;\n",
              "      fill: #D2E3FC;\n",
              "    }\n",
              "\n",
              "    [theme=dark] .colab-df-convert:hover {\n",
              "      background-color: #434B5C;\n",
              "      box-shadow: 0px 1px 3px 1px rgba(0, 0, 0, 0.15);\n",
              "      filter: drop-shadow(0px 1px 2px rgba(0, 0, 0, 0.3));\n",
              "      fill: #FFFFFF;\n",
              "    }\n",
              "  </style>\n",
              "\n",
              "    <script>\n",
              "      const buttonEl =\n",
              "        document.querySelector('#df-f054f777-9e4f-42c4-9913-7a6cc4799e9b button.colab-df-convert');\n",
              "      buttonEl.style.display =\n",
              "        google.colab.kernel.accessAllowed ? 'block' : 'none';\n",
              "\n",
              "      async function convertToInteractive(key) {\n",
              "        const element = document.querySelector('#df-f054f777-9e4f-42c4-9913-7a6cc4799e9b');\n",
              "        const dataTable =\n",
              "          await google.colab.kernel.invokeFunction('convertToInteractive',\n",
              "                                                    [key], {});\n",
              "        if (!dataTable) return;\n",
              "\n",
              "        const docLinkHtml = 'Like what you see? Visit the ' +\n",
              "          '<a target=\"_blank\" href=https://colab.research.google.com/notebooks/data_table.ipynb>data table notebook</a>'\n",
              "          + ' to learn more about interactive tables.';\n",
              "        element.innerHTML = '';\n",
              "        dataTable['output_type'] = 'display_data';\n",
              "        await google.colab.output.renderOutput(dataTable, element);\n",
              "        const docLink = document.createElement('div');\n",
              "        docLink.innerHTML = docLinkHtml;\n",
              "        element.appendChild(docLink);\n",
              "      }\n",
              "    </script>\n",
              "  </div>\n",
              "\n",
              "\n",
              "<div id=\"df-3d73bd61-8d56-42f1-83fa-c8801f427301\">\n",
              "  <button class=\"colab-df-quickchart\" onclick=\"quickchart('df-3d73bd61-8d56-42f1-83fa-c8801f427301')\"\n",
              "            title=\"Suggest charts\"\n",
              "            style=\"display:none;\">\n",
              "\n",
              "<svg xmlns=\"http://www.w3.org/2000/svg\" height=\"24px\"viewBox=\"0 0 24 24\"\n",
              "     width=\"24px\">\n",
              "    <g>\n",
              "        <path d=\"M19 3H5c-1.1 0-2 .9-2 2v14c0 1.1.9 2 2 2h14c1.1 0 2-.9 2-2V5c0-1.1-.9-2-2-2zM9 17H7v-7h2v7zm4 0h-2V7h2v10zm4 0h-2v-4h2v4z\"/>\n",
              "    </g>\n",
              "</svg>\n",
              "  </button>\n",
              "\n",
              "<style>\n",
              "  .colab-df-quickchart {\n",
              "      --bg-color: #E8F0FE;\n",
              "      --fill-color: #1967D2;\n",
              "      --hover-bg-color: #E2EBFA;\n",
              "      --hover-fill-color: #174EA6;\n",
              "      --disabled-fill-color: #AAA;\n",
              "      --disabled-bg-color: #DDD;\n",
              "  }\n",
              "\n",
              "  [theme=dark] .colab-df-quickchart {\n",
              "      --bg-color: #3B4455;\n",
              "      --fill-color: #D2E3FC;\n",
              "      --hover-bg-color: #434B5C;\n",
              "      --hover-fill-color: #FFFFFF;\n",
              "      --disabled-bg-color: #3B4455;\n",
              "      --disabled-fill-color: #666;\n",
              "  }\n",
              "\n",
              "  .colab-df-quickchart {\n",
              "    background-color: var(--bg-color);\n",
              "    border: none;\n",
              "    border-radius: 50%;\n",
              "    cursor: pointer;\n",
              "    display: none;\n",
              "    fill: var(--fill-color);\n",
              "    height: 32px;\n",
              "    padding: 0;\n",
              "    width: 32px;\n",
              "  }\n",
              "\n",
              "  .colab-df-quickchart:hover {\n",
              "    background-color: var(--hover-bg-color);\n",
              "    box-shadow: 0 1px 2px rgba(60, 64, 67, 0.3), 0 1px 3px 1px rgba(60, 64, 67, 0.15);\n",
              "    fill: var(--button-hover-fill-color);\n",
              "  }\n",
              "\n",
              "  .colab-df-quickchart-complete:disabled,\n",
              "  .colab-df-quickchart-complete:disabled:hover {\n",
              "    background-color: var(--disabled-bg-color);\n",
              "    fill: var(--disabled-fill-color);\n",
              "    box-shadow: none;\n",
              "  }\n",
              "\n",
              "  .colab-df-spinner {\n",
              "    border: 2px solid var(--fill-color);\n",
              "    border-color: transparent;\n",
              "    border-bottom-color: var(--fill-color);\n",
              "    animation:\n",
              "      spin 1s steps(1) infinite;\n",
              "  }\n",
              "\n",
              "  @keyframes spin {\n",
              "    0% {\n",
              "      border-color: transparent;\n",
              "      border-bottom-color: var(--fill-color);\n",
              "      border-left-color: var(--fill-color);\n",
              "    }\n",
              "    20% {\n",
              "      border-color: transparent;\n",
              "      border-left-color: var(--fill-color);\n",
              "      border-top-color: var(--fill-color);\n",
              "    }\n",
              "    30% {\n",
              "      border-color: transparent;\n",
              "      border-left-color: var(--fill-color);\n",
              "      border-top-color: var(--fill-color);\n",
              "      border-right-color: var(--fill-color);\n",
              "    }\n",
              "    40% {\n",
              "      border-color: transparent;\n",
              "      border-right-color: var(--fill-color);\n",
              "      border-top-color: var(--fill-color);\n",
              "    }\n",
              "    60% {\n",
              "      border-color: transparent;\n",
              "      border-right-color: var(--fill-color);\n",
              "    }\n",
              "    80% {\n",
              "      border-color: transparent;\n",
              "      border-right-color: var(--fill-color);\n",
              "      border-bottom-color: var(--fill-color);\n",
              "    }\n",
              "    90% {\n",
              "      border-color: transparent;\n",
              "      border-bottom-color: var(--fill-color);\n",
              "    }\n",
              "  }\n",
              "</style>\n",
              "\n",
              "  <script>\n",
              "    async function quickchart(key) {\n",
              "      const quickchartButtonEl =\n",
              "        document.querySelector('#' + key + ' button');\n",
              "      quickchartButtonEl.disabled = true;  // To prevent multiple clicks.\n",
              "      quickchartButtonEl.classList.add('colab-df-spinner');\n",
              "      try {\n",
              "        const charts = await google.colab.kernel.invokeFunction(\n",
              "            'suggestCharts', [key], {});\n",
              "      } catch (error) {\n",
              "        console.error('Error during call to suggestCharts:', error);\n",
              "      }\n",
              "      quickchartButtonEl.classList.remove('colab-df-spinner');\n",
              "      quickchartButtonEl.classList.add('colab-df-quickchart-complete');\n",
              "    }\n",
              "    (() => {\n",
              "      let quickchartButtonEl =\n",
              "        document.querySelector('#df-3d73bd61-8d56-42f1-83fa-c8801f427301 button');\n",
              "      quickchartButtonEl.style.display =\n",
              "        google.colab.kernel.accessAllowed ? 'block' : 'none';\n",
              "    })();\n",
              "  </script>\n",
              "</div>\n",
              "    </div>\n",
              "  </div>\n"
            ],
            "text/plain": [
              "                                                text  admiration  amusement  \\\n",
              "0                                          game hurt           0          0   \n",
              "1  sexuality shouldnt grouping category makes dif...           0          0   \n",
              "3                                    Man love reddit           0          0   \n",
              "5  Right Considering such important document know...           0          0   \n",
              "6  not big but still quite popular Ive heard the ...           0          0   \n",
              "\n",
              "   anger  annoyance  approval  caring  confusion  curiosity  desire  ...  \\\n",
              "0      0          0         0       0          0          0       0  ...   \n",
              "1      0          0         0       0          0          0       0  ...   \n",
              "3      0          0         0       0          0          0       0  ...   \n",
              "5      0          0         0       0          0          0       0  ...   \n",
              "6      0          0         0       0          0          0       0  ...   \n",
              "\n",
              "   love  nervousness  optimism  pride  realization  relief  remorse  sadness  \\\n",
              "0     0            0         0      0            0       0        0        1   \n",
              "1     0            0         0      0            0       0        0        0   \n",
              "3     1            0         0      0            0       0        0        0   \n",
              "5     0            0         0      0            0       0        0        0   \n",
              "6     0            0         0      0            0       0        0        0   \n",
              "\n",
              "   surprise  neutral  \n",
              "0         0        0  \n",
              "1         0        0  \n",
              "3         0        0  \n",
              "5         0        0  \n",
              "6         0        0  \n",
              "\n",
              "[5 rows x 29 columns]"
            ]
          },
          "execution_count": 25,
          "metadata": {},
          "output_type": "execute_result"
        }
      ],
      "source": [
        "geomo_all_neutral_undersampled.head()"
      ]
    },
    {
      "cell_type": "code",
      "execution_count": null,
      "metadata": {
        "colab": {
          "base_uri": "https://localhost:8080/"
        },
        "id": "EP2QKI8XVq3c",
        "outputId": "b3a7aa71-c77e-4049-e031-384115a0d63f"
      },
      "outputs": [
        {
          "name": "stdout",
          "output_type": "stream",
          "text": [
            "Number of rows with text of length 0 or 1: 313\n"
          ]
        }
      ],
      "source": [
        "def count_short_strings(df):\n",
        "    return ((df['text'].str.len() == 0) | (df['text'].str.len() == 1)).sum()\n",
        "\n",
        "# Example usage\n",
        "short_string_count = count_short_strings(geomo_all_neutral_undersampled)\n",
        "print(\"Number of rows with text of length 0 or 1:\", short_string_count)"
      ]
    },
    {
      "cell_type": "code",
      "execution_count": null,
      "metadata": {
        "id": "P5r5LAI4XC4Q"
      },
      "outputs": [],
      "source": [
        "split_texts = geomo_all_neutral_undersampled['text'].str.split()\n",
        "word_counts = split_texts.apply(len)\n",
        "indices = word_counts[word_counts > 1].index"
      ]
    },
    {
      "cell_type": "code",
      "execution_count": null,
      "metadata": {
        "colab": {
          "base_uri": "https://localhost:8080/"
        },
        "id": "IFMHc42eY9tz",
        "outputId": "b1f4872b-8d52-4d22-fac7-97a0ef491d05"
      },
      "outputs": [
        {
          "name": "stdout",
          "output_type": "stream",
          "text": [
            "Rows with word count <= 1: 4741\n"
          ]
        }
      ],
      "source": [
        "less_than_two = word_counts[word_counts <= 1].count()\n",
        "print(f'Rows with word count <= 1: {less_than_two}')"
      ]
    },
    {
      "cell_type": "code",
      "execution_count": null,
      "metadata": {
        "colab": {
          "base_uri": "https://localhost:8080/"
        },
        "id": "P9GJDV1KY9Pv",
        "outputId": "1639f266-fc8b-4a2e-9f55-9112a99d34c2"
      },
      "outputs": [
        {
          "name": "stdout",
          "output_type": "stream",
          "text": [
            "Number of rows: 168806\n"
          ]
        }
      ],
      "source": [
        "geomo_all_neutral_undersampled = geomo_all_neutral_undersampled.loc[indices]\n",
        "geomo_all_neutral_undersampled.reset_index(drop=True, inplace=True)\n",
        "print(f'Number of rows: {len(geomo_all_neutral_undersampled)}')"
      ]
    },
    {
      "cell_type": "code",
      "execution_count": null,
      "metadata": {
        "id": "tM-k77K_U03G"
      },
      "outputs": [],
      "source": [
        "vec_cleaned = CountVectorizer()\n",
        "X_cleaned = vec_cleaned.fit_transform(geomo_all_neutral_undersampled['text'])\n",
        "\n",
        "words_cleaned = vec_cleaned.vocabulary_\n",
        "sorted_words_cleaned = sorted(words_cleaned.items(), key=lambda x: x[1], reverse=True)\n",
        "print(sorted_words_cleaned)"
      ]
    },
    {
      "cell_type": "code",
      "execution_count": null,
      "metadata": {
        "colab": {
          "base_uri": "https://localhost:8080/",
          "height": 419
        },
        "id": "fOA1_TgFVFua",
        "outputId": "d0dc46db-8538-4b28-a38c-7b6a6993c101"
      },
      "outputs": [
        {
          "data": {
            "image/png": "[encoded data removed]",
            "text/plain": [
              "<Figure size 1200x600 with 1 Axes>"
            ]
          },
          "metadata": {},
          "output_type": "display_data"
        }
      ],
      "source": [
        "top_20_words_cleaned = sorted_words_cleaned[:20]\n",
        "words_cleaned, frequencies_cleaned = zip(*top_20_words_cleaned)\n",
        "\n",
        "plt.figure(figsize=(12, 6))\n",
        "plt.bar(words_cleaned, frequencies_cleaned)\n",
        "plt.xlabel('Words')\n",
        "plt.ylabel('Frequency')\n",
        "plt.title('Top 20 English Word Frequency')\n",
        "plt.ylim(frequencies_cleaned[-1] - 50, frequencies_cleaned[0] + 50)\n",
        "plt.show()"
      ]
    },
    {
      "cell_type": "code",
      "execution_count": null,
      "metadata": {
        "colab": {
          "base_uri": "https://localhost:8080/",
          "height": 472
        },
        "id": "PTGvv6LBV83c",
        "outputId": "ea6f7530-83cb-452e-a8b7-c943c36e03b0"
      },
      "outputs": [
        {
          "data": {
            "image/png": "[encoded data removed]",
            "text/plain": [
              "<Figure size 640x480 with 1 Axes>"
            ]
          },
          "metadata": {},
          "output_type": "display_data"
        }
      ],
      "source": [
        "word_counts = pd.DataFrame()\n",
        "word_counts['count'] = geomo_all_neutral_undersampled['text'].apply(lambda x: len(x.split()))\n",
        "word_counts = word_counts.sort_values('count', ascending=False)\n",
        "\n",
        "counts = word_counts['count'].value_counts()\n",
        "median = word_counts['count'].median()\n",
        "\n",
        "plt.bar(counts.index, counts)\n",
        "plt.ylabel('Count of Rows')\n",
        "plt.xlabel('Word Count')\n",
        "plt.title('Row Count by Word Count')\n",
        "plt.plot([median, median], [0, counts.max()], color='r', linestyle='--')\n",
        "\n",
        "plt.show()"
      ]
    },
    {
      "cell_type": "code",
      "execution_count": null,
      "metadata": {
        "id": "Hl6OYxXIUjxs"
      },
      "outputs": [],
      "source": [
        "full_train_data, test_data = train_test_split(geomo_all_neutral_undersampled, test_size=0.2, random_state=42)\n",
        "train_data, val_data = train_test_split(full_train_data, test_size=0.25, random_state=42)"
      ]
    },
    {
      "cell_type": "code",
      "execution_count": null,
      "metadata": {
        "id": "F3xT__OiUhim"
      },
      "outputs": [],
      "source": [
        "y_train = train_data[labels].values\n",
        "y_val = val_data[labels].values\n",
        "y_test = test_data[labels].values\n",
        "y_full_train = full_train_data[labels].values"
      ]
    },
    {
      "cell_type": "code",
      "execution_count": null,
      "metadata": {
        "id": "4IgJpg07rdAZ"
      },
      "outputs": [],
      "source": [
        "X_full_train = full_train_data.iloc[:, 0].values\n",
        "X_train = train_data.iloc[:, 0].values\n",
        "X_test = test_data.iloc[:, 0].values\n",
        "X_val = val_data.iloc[:, 0].values"
      ]
    },
    {
      "cell_type": "markdown",
      "metadata": {
        "id": "dVM58xovsyWa"
      },
      "source": [
        "### Word Tokenizer"
      ]
    },
    {
      "cell_type": "markdown",
      "metadata": {
        "id": "NnlxOsELTCCG"
      },
      "source": [
        "### Traditional ML"
      ]
    },
    {
      "cell_type": "code",
      "execution_count": null,
      "metadata": {
        "id": "cXydBL0HpKCV"
      },
      "outputs": [],
      "source": [
        "tokenizer = nltk.word_tokenize\n",
        "\n",
        "tokenized_texts_full_train = [tokenizer(text) for text in X_full_train]\n",
        "tokenized_texts_train = [tokenizer(text) for text in X_train]\n",
        "tokenized_texts_test = [tokenizer(text) for text in X_test]\n",
        "tokenized_texts_val = [tokenizer(text) for text in X_val]\n",
        "\n",
        "w2v_model = gensim.models.Word2Vec(tokenized_texts_train, vector_size=100, window=5, min_count=1, workers=4)\n"
      ]
    },
    {
      "cell_type": "code",
      "execution_count": null,
      "metadata": {
        "id": "9qlekIsHqutA"
      },
      "outputs": [],
      "source": [
        "full_train_word_vectors = [np.mean([w2v_model.wv[w] for w in tokens if w in w2v_model.wv] or [np.zeros(w2v_model.vector_size)], axis=0) for tokens in tokenized_texts_full_train]\n",
        "train_word_vectors = [np.mean([w2v_model.wv[w] for w in tokens if w in w2v_model.wv] or [np.zeros(w2v_model.vector_size)], axis=0) for tokens in tokenized_texts_train]\n",
        "test_word_vectors = [np.mean([w2v_model.wv[w] for w in tokens if w in w2v_model.wv] or [np.zeros(w2v_model.vector_size)], axis=0) for tokens in tokenized_texts_test]\n",
        "val_word_vectors = [np.mean([w2v_model.wv[w] for w in tokens if w in w2v_model.wv] or [np.zeros(w2v_model.vector_size)], axis=0) for tokens in tokenized_texts_val]"
      ]
    },
    {
      "cell_type": "code",
      "execution_count": null,
      "metadata": {
        "colab": {
          "base_uri": "https://localhost:8080/"
        },
        "id": "d3P6DIFyt8ZD",
        "outputId": "1b5266fb-daa2-44bb-c435-4a1c7833346c"
      },
      "outputs": [
        {
          "name": "stdout",
          "output_type": "stream",
          "text": [
            "44 100 100 100\n"
          ]
        }
      ],
      "source": [
        "print(len(X_train[0]), len(train_word_vectors[0]), len(test_word_vectors[0]), len(val_word_vectors[0]))"
      ]
    },
    {
      "cell_type": "markdown",
      "metadata": {
        "id": "9PffNsmGTFtM"
      },
      "source": [
        "### Transformer"
      ]
    },
    {
      "cell_type": "code",
      "execution_count": null,
      "metadata": {
        "id": "cFu1bZAxjE0B"
      },
      "outputs": [],
      "source": [
        "flat_tokens_train = [tok for text in tokenized_texts_train for tok in text]\n",
        "flat_tokens_val = [tok for text in tokenized_texts_val for tok in text]\n",
        "flat_tokens_test = [tok for text in tokenized_texts_test for tok in text]\n",
        "flat_tokens_full_train = [tok for text in tokenized_texts_full_train for tok in text]"
      ]
    },
    {
      "cell_type": "code",
      "execution_count": null,
      "metadata": {
        "id": "V31AANnMTITJ"
      },
      "outputs": [],
      "source": [
        "all_texts = flat_tokens_train + flat_tokens_val + flat_tokens_test\n",
        "transformer_tokenizer = BertTokenizer.from_pretrained('bert-base-uncased')\n",
        "\n",
        "encoded = transformer_tokenizer(\n",
        "  all_texts,\n",
        "  padding=True,\n",
        "  truncation=True,\n",
        "  return_tensors=\"pt\",\n",
        "  return_attention_mask=True\n",
        ")\n",
        "\n",
        "encoded_train = {\n",
        "    \"input_ids\": encoded[\"input_ids\"][:len(flat_tokens_train)],\n",
        "    \"attention_mask\": encoded[\"attention_mask\"][:len(flat_tokens_train)]\n",
        "}\n",
        "\n",
        "encoded_val = {\n",
        "  \"input_ids\": encoded[\"input_ids\"][len(flat_tokens_train):len(flat_tokens_train)+len(flat_tokens_val)],\n",
        "  \"attention_mask\": encoded[\"attention_mask\"][len(flat_tokens_train):len(flat_tokens_train)+len(flat_tokens_val)]\n",
        "}\n",
        "\n",
        "encoded_test = {\n",
        "  \"input_ids\": encoded[\"input_ids\"][len(flat_tokens_train)+len(flat_tokens_val):],\n",
        "  \"attention_mask\": encoded[\"attention_mask\"][len(flat_tokens_train)+len(flat_tokens_val):]\n",
        "}\n",
        "\n",
        "encoded_full_train = {\n",
        "  \"input_ids\": encoded[\"input_ids\"][:len(flat_tokens_train)+len(flat_tokens_val)],\n",
        "  \"attention_mask\": encoded[\"attention_mask\"][:len(flat_tokens_train)+len(flat_tokens_val)]\n",
        "}"
      ]
    },
    {
      "cell_type": "code",
      "execution_count": null,
      "metadata": {
        "id": "Ae4j5dodsyWb"
      },
      "outputs": [],
      "source": [
        "# max_len = geomo_all_neutral_undersampled['text'].str.len().max()\n",
        "\n",
        "# def tokenizer_and_pad_sequences(data, max_len):\n",
        "#     tokenizer = Tokenizer()\n",
        "#     tokenizer.fit_on_texts(data['text'])\n",
        "#     sequences = tokenizer.texts_to_sequences(data['text'])\n",
        "#     padded_sequences = pad_sequences(sequences, maxlen=max_len)\n",
        "#     return tokenizer, padded_sequences\n",
        "\n",
        "# tokenizer, padded_sequences_train = tokenizer_and_pad_sequences(train_data, max_len)\n",
        "# _, padded_sequences_val = tokenizer_and_pad_sequences(val_data, max_len)\n",
        "# _, padded_sequences_test = tokenizer_and_pad_sequences(test_data, max_len)\n",
        "# _, padded_sequences_all = tokenizer_and_pad_sequences(full_train_data, max_len)"
      ]
    },
    {
      "cell_type": "code",
      "execution_count": null,
      "metadata": {
        "id": "2FGHleSwsyWb"
      },
      "outputs": [],
      "source": [
        "# tokenized_texts_train = [tokenizer.sequences_to_texts([sequence])[0].split() for sequence in padded_sequences_train]\n",
        "# tokenized_texts_val = [tokenizer.sequences_to_texts([sequence])[0].split() for sequence in padded_sequences_val]\n",
        "# tokenized_texts_test = [tokenizer.sequences_to_texts([sequence])[0].split() for sequence in padded_sequences_test]\n",
        "# tokenized_texts_full = [tokenizer.sequences_to_texts([sequence])[0].split() for sequence in padded_sequences_all]"
      ]
    },
    {
      "cell_type": "code",
      "execution_count": null,
      "metadata": {
        "id": "PAclfXOXsyWb"
      },
      "outputs": [],
      "source": [
        "# tokenized_texts = tokenized_texts_train + tokenized_texts_val + tokenized_texts_test\n",
        "# model = gensim.models.Word2Vec(tokenized_texts, vector_size=100, window=5, min_count=1, workers=4)"
      ]
    },
    {
      "cell_type": "code",
      "execution_count": null,
      "metadata": {
        "id": "UQnfE9Drq_5N"
      },
      "outputs": [],
      "source": [
        "# tfidf = TfidfVectorizer(tokenizer=tokenizer)\n",
        "# tfidf_matrix = tfidf.fit_transform(X_train)\n",
        "# weighted_train_vectors = [np.sum(tfidf_matrix[i].multiply(train_word_vectors[i]), axis=0) for i in range(len(X_train))]"
      ]
    },
    {
      "cell_type": "code",
      "execution_count": null,
      "metadata": {
        "id": "sKXogg62syWb"
      },
      "outputs": [],
      "source": [
        "# def create_sentence_embeddings(tokenized_texts, model):\n",
        "#     sentence_embeddings = []\n",
        "#     for text in tokenized_texts:\n",
        "#         word_vectors = [model.wv[word] for word in text if word in model.wv]\n",
        "#         if word_vectors:\n",
        "#             sentence_embeddings.append(sum(word_vectors) / len(word_vectors))\n",
        "#         else:\n",
        "#             sentence_embeddings.append([0] * model.vector_size)\n",
        "#     return sentence_embeddings\n",
        "\n",
        "# sentence_embeddings_train = create_sentence_embeddings(tokenized_texts_train, model)\n",
        "# sentence_embeddings_val = create_sentence_embeddings(tokenized_texts_val, model)\n",
        "# sentence_embeddings_test = create_sentence_embeddings(tokenized_texts_test, model)\n",
        "# sentence_embeddings_full = create_sentence_embeddings(tokenized_texts_full, model)"
      ]
    },
    {
      "cell_type": "code",
      "execution_count": null,
      "metadata": {
        "id": "vbdMaxa8syWb"
      },
      "outputs": [],
      "source": [
        "# X_train = np.array(sentence_embeddings_train)\n",
        "# X_val = np.array(sentence_embeddings_val)\n",
        "# X_test = np.array(sentence_embeddings_test)\n",
        "# X_full_train = np.array(sentence_embeddings_full)"
      ]
    },
    {
      "cell_type": "markdown",
      "metadata": {
        "id": "sdvOU2x3syWb"
      },
      "source": [
        "## Models"
      ]
    },
    {
      "cell_type": "markdown",
      "metadata": {
        "id": "5U6R9VuasyWb"
      },
      "source": [
        "### Traditional ML"
      ]
    },
    {
      "cell_type": "markdown",
      "metadata": {
        "id": "LhPYpTUIsyWb"
      },
      "source": [
        "#### Logistic OVR"
      ]
    },
    {
      "cell_type": "code",
      "execution_count": null,
      "metadata": {
        "id": "FKs97ihttAxU"
      },
      "outputs": [],
      "source": [
        "scaler = StandardScaler()\n",
        "X_scaled = scaler.fit_transform(train_word_vectors)\n",
        "\n",
        "log_ovr = OneVsRestClassifier(LogisticRegression(max_iter=10000)).fit(X_scaled, y_train)"
      ]
    },
    {
      "cell_type": "code",
      "execution_count": null,
      "metadata": {
        "colab": {
          "base_uri": "https://localhost:8080/"
        },
        "id": "xQSM-YejtEEg",
        "outputId": "08b585c2-49ed-4470-b0a7-af838c5be229"
      },
      "outputs": [
        {
          "name": "stdout",
          "output_type": "stream",
          "text": [
            "Validation score: 0.06787544810831629\n"
          ]
        }
      ],
      "source": [
        "X_val_scaled = scaler.fit_transform(val_word_vectors)\n",
        "score = log_ovr.score(X_val_scaled, y_val)\n",
        "print('Validation score:', score)"
      ]
    },
    {
      "cell_type": "markdown",
      "metadata": {
        "id": "3X64rc9cUA1_"
      },
      "source": [
        "### Transformer"
      ]
    },
    {
      "cell_type": "markdown",
      "metadata": {
        "id": "TGgvwaPMUFk4"
      },
      "source": [
        "#### Bert"
      ]
    },
    {
      "cell_type": "code",
      "execution_count": null,
      "metadata": {
        "colab": {
          "base_uri": "https://localhost:8080/"
        },
        "id": "Pp-gPIO3UVGA",
        "outputId": "e4b47045-be6e-4a7a-c376-3644048d9d8d"
      },
      "outputs": [
        {
          "name": "stderr",
          "output_type": "stream",
          "text": [
            "Some weights of BertForSequenceClassification were not initialized from the model checkpoint at bert-base-uncased and are newly initialized: ['classifier.bias', 'classifier.weight']\n",
            "You should probably TRAIN this model on a down-stream task to be able to use it for predictions and inference.\n"
          ]
        }
      ],
      "source": [
        "bert_model = BertForSequenceClassification.from_pretrained('bert-base-uncased', num_labels=len(labels))"
      ]
    },
    {
      "cell_type": "code",
      "execution_count": null,
      "metadata": {
        "id": "NdKsJw2WUmwJ"
      },
      "outputs": [],
      "source": [
        "optimizer = torch.optim.Adam(bert_model.parameters(), lr=1e-5)"
      ]
    },
    {
      "cell_type": "code",
      "execution_count": null,
      "metadata": {
        "id": "mW38zqo7VT85"
      },
      "outputs": [],
      "source": [
        "for epoch in range(10):\n",
        "  outputs = bert_model(\n",
        "      input_ids=encoded_train[\"input_ids\"],\n",
        "      attention_mask=encoded_train[\"attention_mask\"]\n",
        "  )\n",
        "  loss = BCEWithLogitsLoss(outputs, y_train)\n",
        "  loss.backward()\n",
        "  optimizer.step()\n",
        "  optimizer.zero_grad()"
      ]
    },
    {
      "cell_type": "code",
      "execution_count": null,
      "metadata": {
        "id": "eDzxSdVQbV9g"
      },
      "outputs": [],
      "source": [
        "outputs = bert_model(**encoded_val)\n",
        "preds = torch.sigmoid(outputs[0])"
      ]
    },
    {
      "cell_type": "markdown",
      "metadata": {
        "id": "xMCVG5jRsyWc"
      },
      "source": [
        "### Semi transformer"
      ]
    },
    {
      "cell_type": "code",
      "execution_count": null,
      "metadata": {
        "id": "qo8lSwgtsyWc"
      },
      "outputs": [],
      "source": [
        "def build_semi_transformer(vocab_size, max_len, embedding_dim, num_heads, hidden_dim, num_emotions, dropout_rate=0.1):\n",
        "    inputs = Input(shape=(max_len,), name=\"input_ids\")\n",
        "\n",
        "    # Embedding layer\n",
        "    x = Embedding(input_dim=vocab_size, output_dim=embedding_dim, name=\"embedding\")(inputs)\n",
        "\n",
        "    # Multi-head attention layer\n",
        "    attention_output = MultiHeadAttention(num_heads=num_heads, key_dim=embedding_dim // num_heads)(x, x)\n",
        "    attention_output = LayerNormalization()(attention_output + x)\n",
        "    attention_output = Dropout(dropout_rate)(attention_output)\n",
        "\n",
        "    # Feed-forward layer\n",
        "    ff_output = Dense(units=hidden_dim, activation=\"relu\")(attention_output)\n",
        "    ff_output = Dense(units=embedding_dim, activation=\"linear\")(ff_output)\n",
        "    ff_output = LayerNormalization()(ff_output + attention_output)\n",
        "    ff_output = Dropout(dropout_rate)(ff_output)\n",
        "\n",
        "    # Pooling and classification\n",
        "    pooled_output = Flatten()(ff_output)\n",
        "    outputs = Dense(units=num_emotions, activation=\"sigmoid\", name=\"output\")(pooled_output)\n",
        "\n",
        "    model = Model(inputs=inputs, outputs=outputs)\n",
        "    return model"
      ]
    },
    {
      "cell_type": "code",
      "execution_count": null,
      "metadata": {
        "id": "KOZEKMlfsyWc"
      },
      "outputs": [],
      "source": [
        "# embedding_dim = 128\n",
        "# embedding_dim = 128\n",
        "# num_heads = 8\n",
        "# hidden_dim = 256\n",
        "# dropout_rate = 0.2\n",
        "# num_emotions = len(labels)\n",
        "\n",
        "# model = build_semi_transformer(vocab_size=len(tokenizer.word_index) + 1,\n",
        "#                                max_len=max_len,\n",
        "#                                embedding_dim=embedding_dim,\n",
        "#                                num_heads=num_heads,\n",
        "#                                hidden_dim=hidden_dim,\n",
        "#                                num_emotions=num_emotions,\n",
        "#                                dropout_rate=dropout_rate)\n",
        "\n",
        "# model.compile(optimizer='adam', loss='binary_crossentropy', metrics=['accuracy'])\n",
        "# model.fit(padded_sequences_train, multi_labels_train, epochs=20, batch_size=32, validation_split=0.2)"
      ]
    }
  ],
  "metadata": {
    "colab": {
      "provenance": [],
      "include_colab_link": true
    },
    "kernelspec": {
      "display_name": "Python 3",
      "name": "python3"
    },
    "language_info": {
      "codemirror_mode": {
        "name": "ipython",
        "version": 3
      },
      "file_extension": ".py",
      "mimetype": "text/x-python",
      "name": "python",
      "nbconvert_exporter": "python",
      "pygments_lexer": "ipython3",
      "version": "3.10.14"
    }
  },
  "nbformat": 4,
  "nbformat_minor": 0
}